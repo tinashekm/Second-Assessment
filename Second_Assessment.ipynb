{
  "nbformat": 4,
  "nbformat_minor": 0,
  "metadata": {
    "colab": {
      "provenance": [],
      "authorship_tag": "ABX9TyOmBwfsmrNOGCN6VuTdKgTE",
      "include_colab_link": true
    },
    "kernelspec": {
      "name": "python3",
      "display_name": "Python 3"
    },
    "language_info": {
      "name": "python"
    }
  },
  "cells": [
    {
      "cell_type": "markdown",
      "metadata": {
        "id": "view-in-github",
        "colab_type": "text"
      },
      "source": [
        "<a href=\"https://colab.research.google.com/github/tinashekm/Second-Assessment/blob/main/Second_Assessment.ipynb\" target=\"_parent\"><img src=\"https://colab.research.google.com/assets/colab-badge.svg\" alt=\"Open In Colab\"/></a>"
      ]
    },
    {
      "cell_type": "code",
      "execution_count": null,
      "metadata": {
        "id": "6AsXBacJlaYJ"
      },
      "outputs": [],
      "source": [
        "# Import the required libraries\n",
        "import sqlite3\n",
        "import pandas as pd\n",
        "import matplotlib.pyplot as plt\n",
        "import ipywidgets as widgets\n",
        "\n",
        "# Connect to a SQLite database\n",
        "conn = sqlite3.connect('example.db')\n",
        "\n",
        "# Create a cursor object to execute SQL queries\n",
        "cursor = conn.cursor()\n",
        "\n",
        "# Create a table\n",
        "cursor.execute('''CREATE TABLE IF NOT EXISTS employees\n",
        "                  (id INTEGER PRIMARY KEY, name TEXT, age INTEGER)''')\n",
        "\n",
        "# Insert sample data into the table\n",
        "cursor.execute(\"INSERT INTO employees VALUES (1, 'John Doe', 25)\")\n",
        "cursor.execute(\"INSERT INTO employees VALUES (2, 'Jane Smith', 30)\")\n",
        "cursor.execute(\"INSERT INTO employees VALUES (3, 'Bob Johnson', 35)\")\n",
        "\n",
        "# Commit the changes to the database\n",
        "conn.commit()\n",
        "\n",
        "# Retrieve data from the table\n",
        "cursor.execute(\"SELECT * FROM employees\")\n",
        "rows = cursor.fetchall()\n",
        "\n",
        "# Convert the query result to a Pandas DataFrame\n",
        "df = pd.DataFrame(rows, columns=['ID', 'Name', 'Age'])\n",
        "\n",
        "# Display the DataFrame\n",
        "df\n",
        "\n",
        "# Create a bar plot using Matplotlib\n",
        "plt.bar(df['Name'], df['Age'])\n",
        "plt.xlabel('Name')\n",
        "plt.ylabel('Age')\n",
        "plt.title('Employee Ages')\n",
        "plt.show()\n",
        "\n",
        "# Create an interactive widget\n",
        "slider = widgets.IntSlider(value=50, min=0, max=100, step=1, description='Slider:')\n",
        "slider\n"
      ]
    },
    {
      "cell_type": "code",
      "source": [
        "#Connecting to SQLite3 database to access emails\n",
        "database = sqlite3.connect('Enronemaildataset.db')"
      ],
      "metadata": {
        "id": "tA9yv_GWlwmr"
      },
      "execution_count": null,
      "outputs": []
    },
    {
      "cell_type": "code",
      "source": [
        "#Create a cursor object to execute SQL Queries\n",
        "cursor = conn.cursor()"
      ],
      "metadata": {
        "id": "aWcO5gRAlwak"
      },
      "execution_count": null,
      "outputs": []
    },
    {
      "cell_type": "code",
      "source": [
        "#Create a table\n",
        "cursor.execute('''Create table employees(id INTEGER PRIMARY KEY, name TEXT, age INTERGER)''')"
      ],
      "metadata": {
        "id": "b1ITy72jlwSo"
      },
      "execution_count": null,
      "outputs": []
    },
    {
      "cell_type": "code",
      "source": [
        "#insert sample data into the table\n",
        "cursor.execute(\"INSERT INTO employees VALUES (1, 'John Doe', 25)\")\n",
        "cursor.execute(\"INSERT INTO employees VALUES (2, 'Jane Smith', 30)\")\n",
        "cursor.execute(\"INSERT INTO employees VALUES (3, 'Bob Johnson', 35)\")"
      ],
      "metadata": {
        "id": "mWV3x1gxlwKf"
      },
      "execution_count": null,
      "outputs": []
    },
    {
      "cell_type": "code",
      "source": [
        "#Commit the changes to the database \n",
        "conn.commit()"
      ],
      "metadata": {
        "id": "im-aTF06lwES"
      },
      "execution_count": null,
      "outputs": []
    },
    {
      "cell_type": "code",
      "source": [
        "#Retrieve data from the table \n",
        "cursor.execute(\"SELECT * FROM EMPLOYEES\")\n",
        "rows = cursor.fetchfall()"
      ],
      "metadata": {
        "id": "yblcSSU6lv80"
      },
      "execution_count": null,
      "outputs": []
    },
    {
      "cell_type": "code",
      "source": [
        "#Convert the query result to a Pandas Dataframe\n",
        "df = pd.DataFrame(rows, columns=['ID', 'Name', 'Age'])"
      ],
      "metadata": {
        "id": "3GlZWXZAtR5V"
      },
      "execution_count": null,
      "outputs": []
    },
    {
      "cell_type": "code",
      "source": [
        "#Display dataframe\n",
        "df"
      ],
      "metadata": {
        "id": "oz68JaN4tRxA"
      },
      "execution_count": null,
      "outputs": []
    },
    {
      "cell_type": "code",
      "source": [
        "#Create a bar plot using Matplotlib\n",
        "plt.bar(df['Name'], df['Age'])\n",
        "plt.xlabel('Name')\n",
        "plt.ylabel('Age')\n",
        "plt.title('Employee ages')\n",
        "plt.show()"
      ],
      "metadata": {
        "id": "o5wDgof3tRpb"
      },
      "execution_count": null,
      "outputs": []
    },
    {
      "cell_type": "code",
      "source": [
        "#Create an interactive widget\n",
        "slider = widgets.IntSlider(value=50, min=0, max=100, step=1, description='Slider:')\n",
        "slider"
      ],
      "metadata": {
        "id": "GuKK5Wa2tRfT"
      },
      "execution_count": null,
      "outputs": []
    },
    {
      "cell_type": "code",
      "source": [
        "!pip install pandas\n",
        "!pip install matplotlib\n",
        "!pip install ipywidgets"
      ],
      "metadata": {
        "id": "utDAM_LQlvvE"
      },
      "execution_count": null,
      "outputs": []
    },
    {
      "cell_type": "code",
      "source": [
        "# Import the required libraries\n",
        "import sqlite3\n",
        "\n",
        "# Connect to the Enron Email SQLite database\n",
        "conn = sqlite3.connect('enron_emails.db')\n",
        "\n",
        "# Create a cursor object to execute SQL queries\n",
        "cursor = conn.cursor()\n",
        "\n",
        "# Get the list of tables in the database\n",
        "cursor.execute(\"SELECT name FROM sqlite_master WHERE type='table';\")\n",
        "tables = cursor.fetchall()\n",
        "\n",
        "# Print the table names\n",
        "for table in tables:\n",
        "    print(\"Table:\", table[0])\n",
        "    print(\"------\")\n",
        "\n",
        "    # Get the schema of each table\n",
        "    cursor.execute(\"PRAGMA table_info(\" + table[0] + \");\")\n",
        "    columns = cursor.fetchall()\n",
        "\n",
        "    # Print the column names and their data types\n",
        "    for column in columns:\n",
        "        print(\"Column:\", column[1])\n",
        "        print(\"Type:\", column[2])\n",
        "        print(\"------\")\n",
        "\n",
        "    print(\"\\n\")\n",
        "\n",
        "# Close the database connection\n",
        "conn.close()\n"
      ],
      "metadata": {
        "id": "HKPJULikwMvh"
      },
      "execution_count": null,
      "outputs": []
    },
    {
      "cell_type": "code",
      "source": [
        "# Import the required libraries\n",
        "import sqlite3\n",
        "import pandas as pd\n",
        "\n",
        "# Connect to the Enron Email SQLite database\n",
        "conn = sqlite3.connect('enron_emails.db')\n",
        "\n",
        "# Write SQL queries to extract relevant information\n",
        "query = \"\"\"\n",
        "    SELECT sender, recipient, date, subject\n",
        "    FROM emails\n",
        "    WHERE date >= '2000-01-01' AND date < '2001-01-01'\n",
        "\"\"\"\n",
        "\n",
        "# Load the query results into a Pandas DataFrame\n",
        "df = pd.read_sql_query(query, conn)\n",
        "\n",
        "# Close the database connection\n",
        "conn.close()\n",
        "\n",
        "# Perform data manipulation tasks\n",
        "# Filter the DataFrame based on specific conditions\n",
        "filtered_df = df[df['sender'] == 'john.doe@enron.com']\n",
        "\n",
        "# Group the DataFrame by a specific column\n",
        "grouped_df = df.groupby('recipient').count()\n",
        "\n",
        "# Perform aggregation on specific columns\n",
        "aggregated_df = df.groupby('sender').agg({'subject': 'count', 'recipient': 'nunique'})\n",
        "\n",
        "# Clean and preprocess the data\n",
        "# Handle missing values\n",
        "cleaned_df = df.dropna()\n",
        "\n",
        "# Address inconsistent values\n",
        "cleaned_df['sender'] = cleaned_df['sender'].str.lower()\n",
        "\n",
        "# Address inconsistent date formats\n",
        "cleaned_df['date'] = pd.to_datetime(cleaned_df['date'])\n",
        "\n",
        "# Print the cleaned and preprocessed DataFrame\n",
        "print(cleaned_df.head())\n"
      ],
      "metadata": {
        "id": "jQuIDFAAxDLO"
      },
      "execution_count": null,
      "outputs": []
    },
    {
      "cell_type": "code",
      "source": [],
      "metadata": {
        "id": "RTLufFMRxIDx"
      },
      "execution_count": null,
      "outputs": []
    }
  ]
}